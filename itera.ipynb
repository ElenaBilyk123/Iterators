{
 "cells": [
  {
   "cell_type": "code",
   "execution_count": 9,
   "metadata": {},
   "outputs": [],
   "source": [
    "class FlatIterator:\n",
    "\n",
    "    def __init__(self, list_of_list):\n",
    "        self.list_of_list = list_of_list\n",
    "\n",
    "\n",
    "    def __iter__(self):   \n",
    "       self.counter = 0\n",
    "       self.counter1 = -1\n",
    "       return self\n",
    "    \n",
    "\n",
    "    def __next__(self):\n",
    "        self.counter1 += 1\n",
    "        if self.counter == len(self.list_of_list) - 1 and self.counter1 == len(self.list_of_list[self.counter]):\n",
    "            raise StopIteration\n",
    "        if  self.counter1 == len(self.list_of_list[self.counter]):\n",
    "                self.counter += 1\n",
    "                self.counter1 = 0\n",
    "        return self.list_of_list[self.counter][self.counter1]\n",
    "\n",
    "\n",
    "def test_1():\n",
    "\n",
    "    list_of_lists_1 = [\n",
    "        ['a', 'b', 'c'],\n",
    "        ['d', 'e', 'f', 'h', False],\n",
    "        [1, 2, None]\n",
    "    ]\n",
    "\n",
    "    # for item in FlatIterator(list_of_lists_1):\n",
    "    #     print(item)\n",
    "\n",
    "    for flat_iterator_item, check_item in zip(\n",
    "            FlatIterator(list_of_lists_1),\n",
    "            ['a', 'b', 'c', 'd', 'e', 'f', 'h', False, 1, 2, None]\n",
    "    ):\n",
    "\n",
    "        assert flat_iterator_item == check_item\n",
    "\n",
    "    assert list(FlatIterator(list_of_lists_1)) == ['a', 'b', 'c', 'd', 'e', 'f', 'h', False, 1, 2, None]\n",
    "\n",
    "\n",
    "if __name__ == '__main__':\n",
    "    test_1()\n",
    "\n",
    "     \n"
   ]
  }
 ],
 "metadata": {
  "kernelspec": {
   "display_name": "Python 3.11.0 64-bit",
   "language": "python",
   "name": "python3"
  },
  "language_info": {
   "codemirror_mode": {
    "name": "ipython",
    "version": 3
   },
   "file_extension": ".py",
   "mimetype": "text/x-python",
   "name": "python",
   "nbconvert_exporter": "python",
   "pygments_lexer": "ipython3",
   "version": "3.11.0"
  },
  "orig_nbformat": 4,
  "vscode": {
   "interpreter": {
    "hash": "5238573367df39f7286bb46f9ff5f08f63a01a80960060ce41e3c79b190280fa"
   }
  }
 },
 "nbformat": 4,
 "nbformat_minor": 2
}

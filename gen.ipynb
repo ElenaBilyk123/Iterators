{
 "cells": [
  {
   "cell_type": "code",
   "execution_count": 7,
   "metadata": {},
   "outputs": [],
   "source": [
    "import types\n",
    "\n",
    "\n",
    "def flat_generator(list_of_lists):\n",
    "    for list in list_of_lists:\n",
    "        for element in list:\n",
    "            yield element\n",
    "    \n",
    "def test_2():\n",
    "\n",
    "    list_of_lists_1 = [\n",
    "        ['a', 'b', 'c'],\n",
    "        ['d', 'e', 'f', 'h', False],\n",
    "        [1, 2, None]\n",
    "    ]\n",
    "    # for item in flat_generator(list_of_lists_1):\n",
    "    #     print(item)\n",
    "\n",
    "    for flat_iterator_item, check_item in zip(\n",
    "            flat_generator(list_of_lists_1),\n",
    "            ['a', 'b', 'c', 'd', 'e', 'f', 'h', False, 1, 2, None]\n",
    "    ):\n",
    "\n",
    "        assert flat_iterator_item == check_item\n",
    "\n",
    "    assert list(flat_generator(list_of_lists_1)) == ['a', 'b', 'c', 'd', 'e', 'f', 'h', False, 1, 2, None]\n",
    "\n",
    "    assert isinstance(flat_generator(list_of_lists_1), types.GeneratorType)\n",
    "\n",
    "\n",
    "if __name__ == '__main__':\n",
    "    test_2()"
   ]
  }
 ],
 "metadata": {
  "kernelspec": {
   "display_name": "Python 3.11.0 64-bit",
   "language": "python",
   "name": "python3"
  },
  "language_info": {
   "codemirror_mode": {
    "name": "ipython",
    "version": 3
   },
   "file_extension": ".py",
   "mimetype": "text/x-python",
   "name": "python",
   "nbconvert_exporter": "python",
   "pygments_lexer": "ipython3",
   "version": "3.11.0"
  },
  "orig_nbformat": 4,
  "vscode": {
   "interpreter": {
    "hash": "5238573367df39f7286bb46f9ff5f08f63a01a80960060ce41e3c79b190280fa"
   }
  }
 },
 "nbformat": 4,
 "nbformat_minor": 2
}
